{
 "cells": [
  {
   "cell_type": "markdown",
   "metadata": {},
   "source": [
    "# Worksheet 11\n",
    "\n",
    "Name:  Min Han  \n",
    "UID: U15822408\n",
    "\n",
    "### Topics\n",
    "\n",
    "- Naive Bayes\n",
    "- Model Evaluation\n",
    "\n",
    "### Naive Bayes\n",
    "\n",
    "| Attribute A | Attribute B | Attribute C | Class |\n",
    "|-------------|-------------|-------------|-------|\n",
    "| Yes         | Single      | High        | No    |\n",
    "| No          | Married     | Mid         | No    |\n",
    "| No          | Single      | Low         | No    |\n",
    "| Yes         | Married     | High        | No    |\n",
    "| No          | Divorced    | Mid         | Yes   |\n",
    "| No          | Married     | Low         | No    |\n",
    "| Yes         | Divorced    | High        | No    |\n",
    "| No          | Single      | Mid         | Yes   |\n",
    "| No          | Married     | Low         | No    |\n",
    "| No          | Single      | Mid         | Yes   |\n",
    "\n",
    "a) Compute the following probabilities:\n",
    "\n",
    "- P(Attribute A = Yes | Class = No)\n",
    "- P(Attribute B = Divorced | Class = Yes)\n",
    "- P(Attribute C = High | Class = No)\n",
    "- P(Attribute C = Mid | Class = Yes)"
   ]
  },
  {
   "cell_type": "markdown",
   "metadata": {},
   "source": [
    "P(Attribute A = Yes | Class = No) = 3/7  \n",
    "P(Attribute B = Divorced | Class = Yes) = 1/3  \n",
    "P(Attribute C = High | Class = No) = 3/7  \n",
    "P(Attribute C = Mid | Class = Yes) = 1  "
   ]
  },
  {
   "cell_type": "markdown",
   "metadata": {},
   "source": [
    "b) Classify the following unseen records:\n",
    "\n",
    "- (Yes, Married, Mid)\n",
    "- (No, Divorced, High)\n",
    "- (No, Single, High)\n",
    "- (No, Divorced, Low)"
   ]
  },
  {
   "cell_type": "markdown",
   "metadata": {},
   "source": [
    "No  \n",
    "No  \n",
    "No  \n",
    "No"
   ]
  },
  {
   "cell_type": "markdown",
   "metadata": {},
   "source": [
    "### Model Evaluation\n",
    "\n",
    "a) Write a function to generate the confusion matrix for a list of actual classes and a list of predicted classes"
   ]
  },
  {
   "cell_type": "code",
   "execution_count": 71,
   "metadata": {},
   "outputs": [
    {
     "name": "stdout",
     "output_type": "stream",
     "text": [
      "[[2 1]\n",
      " [3 4]]\n"
     ]
    }
   ],
   "source": [
    "import numpy as np\n",
    "\n",
    "actual_class = [\"Yes\", \"No\", \"No\", \"Yes\", \"No\", \"No\", \"Yes\", \"No\", \"No\", \"No\"]\n",
    "predicted_class = [\"Yes\", \"No\", \"Yes\", \"No\", \"No\", \"No\", \"Yes\", \"Yes\", \"Yes\", \"No\"]\n",
    "\n",
    "\n",
    "def confusion_matrix(actual, predicted):\n",
    "    #cm = []\n",
    "    cm = np.zeros((2, 2), int)\n",
    "    for i in range(len(actual)):\n",
    "        if actual[i] == \"No\" and predicted[i] == actual[i]:\n",
    "            cm[1][1] += 1\n",
    "        if actual[i] == \"Yes\" and predicted[i] == actual[i]:\n",
    "            cm[0][0] += 1\n",
    "        if actual[i] == \"No\" and predicted[i] != actual[i]:\n",
    "            cm[1][0] += 1\n",
    "        if actual[i] == \"Yes\" and predicted[i] != actual[i]:\n",
    "            cm[0][1] += 1\n",
    "    return cm\n",
    "\n",
    "cm = confusion_matrix(actual_class, predicted_class)\n",
    "print(cm)"
   ]
  },
  {
   "cell_type": "markdown",
   "metadata": {},
   "source": [
    "b) Assume you have the following Cost Matrix:\n",
    "\n",
    "|            | predicted = Y | predicted = N |\n",
    "|------------|---------------|---------------|\n",
    "| actual = Y |       -1      |       5       |\n",
    "| actual = N |        10     |       0       |\n",
    "\n",
    "What is the cost of the above classification?"
   ]
  },
  {
   "cell_type": "markdown",
   "metadata": {},
   "source": [
    "33"
   ]
  },
  {
   "cell_type": "markdown",
   "metadata": {},
   "source": [
    "c) Write a function that takes in the actual values, the predictions, and a cost matrix and outputs a cost. Test it on the above example."
   ]
  },
  {
   "cell_type": "code",
   "execution_count": 59,
   "metadata": {},
   "outputs": [
    {
     "name": "stdout",
     "output_type": "stream",
     "text": [
      "33\n"
     ]
    }
   ],
   "source": [
    "cost_matrix = np.array([[-1, 5], [10, 0]], np.int32)\n",
    "\n",
    "def actual_cost(confusion, cost):\n",
    "    res = 0\n",
    "    for i in range(len(cost)):\n",
    "        for j in range(len(cost)):\n",
    "            #print(i, j)\n",
    "            #print(confusion[i][j], cost[i][j])\n",
    "            res += confusion[i][j] * cost[i][j]\n",
    "\n",
    "    return res\n",
    "\n",
    "print(actual_cost(cm, cost_matrix))"
   ]
  },
  {
   "cell_type": "markdown",
   "metadata": {},
   "source": [
    "d) Implement functions for the following:\n",
    "\n",
    "- accuracy\n",
    "- precision\n",
    "- recall\n",
    "- f-measure\n",
    "\n",
    "and apply them to the above example."
   ]
  },
  {
   "cell_type": "code",
   "execution_count": 78,
   "metadata": {},
   "outputs": [
    {
     "name": "stdout",
     "output_type": "stream",
     "text": [
      "0.6 0.4 0.6666666666666666 0.5\n"
     ]
    }
   ],
   "source": [
    "\"\"\"\n",
    "Accuracy == (TruePositives + FalsePositives) / all\n",
    "Precision = TruePositives / (TruePositives + FalsePositives)\n",
    "Recall = TruePositives / (TruePositives + FalseNegatives)\n",
    "F-Measure = (2 * Precision * Recall) / (Precision + Recall)\n",
    "\"\"\"\n",
    "\n",
    "import numpy as np\n",
    "\n",
    "def accuarcy(cm):\n",
    "    return (cm[0][0] + cm[1][1]) / (sum(map(sum, cm)))\n",
    "accuarcy = accuarcy(cm)\n",
    "\n",
    "def precision(cm):\n",
    "    return cm[0][0] / (cm[0][0] + cm[1][0])\n",
    "precision = precision(cm)\n",
    "\n",
    "def recall(cm):\n",
    "    return cm[0][0] / (cm[0][0] + cm[0][1])\n",
    "recall = recall(cm)\n",
    "\n",
    "def FMeasure(cm):\n",
    "    return (2 * precision * recall) / (precision + recall)\n",
    "FMeasure = FMeasure(cm)\n",
    "\n",
    "print(accuarcy, precision, recall, FMeasure)"
   ]
  },
  {
   "cell_type": "code",
   "execution_count": null,
   "metadata": {},
   "outputs": [],
   "source": []
  }
 ],
 "metadata": {
  "interpreter": {
   "hash": "76ca05dc3ea24b2e3b98cdb7774adfbb40773424bf5109b477fd793f623715af"
  },
  "kernelspec": {
   "display_name": "Python 3",
   "language": "python",
   "name": "python3"
  },
  "language_info": {
   "codemirror_mode": {
    "name": "ipython",
    "version": 3
   },
   "file_extension": ".py",
   "mimetype": "text/x-python",
   "name": "python",
   "nbconvert_exporter": "python",
   "pygments_lexer": "ipython3",
   "version": "3.8.8"
  }
 },
 "nbformat": 4,
 "nbformat_minor": 4
}
