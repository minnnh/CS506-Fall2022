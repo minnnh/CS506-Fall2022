{
 "cells": [
  {
   "cell_type": "markdown",
   "metadata": {},
   "source": [
    "# Worksheet 05\n",
    "\n",
    "Name:  Min Han  \n",
    "UID: U15822408\n",
    "\n",
    "### Topics\n",
    "\n",
    "- Hierarchical Clustering\n",
    "\n",
    "### Hierarchical Clustering\n",
    "\n",
    "Using the following dataset:\n",
    "\n",
    "| Point | x | y |\n",
    "|-------|---|---|\n",
    "| A     | 0 | 0 |\n",
    "| B     | 1 | 1 |\n",
    "| C     | 3 | 0 |\n",
    "| D     | 0 | 1 |\n",
    "| E     | 2 | 2 |\n",
    "\n",
    "with\n",
    "\n",
    "d = Euclidean  \n",
    "D = Single-Link\n",
    "\n",
    "produce the distance matrix at every step of the hierarchical clustering algorithm."
   ]
  },
  {
   "cell_type": "markdown",
   "metadata": {},
   "source": [
    "Step 1\n",
    "\n",
    "|   |      A      |      B     |      C       |      D      |      E      |\n",
    "|---|-------------|------------|--------------|-------------|-------------|\n",
    "| A |      $0$      | $\\sqrt{2}$ |      $3$      |      $1$      | $2\\sqrt{2}$ |\n",
    "| B | $\\sqrt{2}$  |      $0$     |  $\\sqrt{5}$  |      $1$      | $\\sqrt{2}$  |\n",
    "| C |      $3$      | $\\sqrt{5}$ |       $0$      | $\\sqrt{10}$ | $\\sqrt{5}$  |\n",
    "| D |      $1$      |      $1$     | $\\sqrt{10}$  |      $0$      | $\\sqrt{5}$  |\n",
    "| E | $2\\sqrt{2}$ | $\\sqrt{2}$ | $\\sqrt{5}$   | $\\sqrt{5}$  |      $0$      |"
   ]
  },
  {
   "cell_type": "markdown",
   "metadata": {},
   "source": [
    "Step 2\n",
    "\n",
    "|       |    A&D   | B | C | E |\n",
    "|-------|------------|---|---|---|\n",
    "| A&D |   0        | 1| 3  | $\\sqrt{5}$  |\n",
    "|   B   | 1 | 0 | $\\sqrt{5}$ | $\\sqrt{2}$  |\n",
    "|   C   |   3        | $\\sqrt{5}$ | 0 | $\\sqrt{5}$ |\n",
    "|   E   |$\\sqrt{5}$| $\\sqrt{2}$  | $\\sqrt{5}$   | 0 |\n"
   ]
  },
  {
   "cell_type": "markdown",
   "metadata": {},
   "source": [
    "Step 3\n",
    "\n",
    "|   | A&D&B  | C  | E  |\n",
    "|---|---|---|---|\n",
    "| A&D&B  | 0 | $\\sqrt{5}$  | $\\sqrt{2}$ |\n",
    "| C  | $\\sqrt{5}$  | 0 | $\\sqrt{5}$  |\n",
    "| E  | $\\sqrt{2}$  | $\\sqrt{5}$  | 0 |"
   ]
  },
  {
   "cell_type": "markdown",
   "metadata": {},
   "source": [
    "Step 4\n",
    "\n",
    "|   | A&D&B&E  | C  |\n",
    "|---|---|---|\n",
    "|A&D&B&E   | 0 |  $\\sqrt{5}$  |\n",
    "| C  | $\\sqrt{5}$  | 0 |"
   ]
  },
  {
   "cell_type": "markdown",
   "metadata": {},
   "source": [
    "Repeat the above with\n",
    "\n",
    "d = Euclidean  \n",
    "D = Complete-Link"
   ]
  },
  {
   "cell_type": "markdown",
   "metadata": {},
   "source": [
    "Step 1\n",
    "\n",
    "|   |      A      |      B     |      C       |      D      |      E      |\n",
    "|---|-------------|------------|--------------|-------------|-------------|\n",
    "| A |      0      | $\\sqrt{2}$ |      3       |      1      | $2\\sqrt{2}$ |\n",
    "| B | $\\sqrt{2}$  |      0     |  $\\sqrt{5}$  |      1      | $\\sqrt{2}$  |\n",
    "| C |      3      | $\\sqrt{5}$ |       0      | $\\sqrt{10}$ | $\\sqrt{5}$  |\n",
    "| D |      1      |      1     | $\\sqrt{10}$  |      0      | $\\sqrt{5}$  |\n",
    "| E | $2\\sqrt{2}$ | $\\sqrt{2}$ | $\\sqrt{5}$   | $\\sqrt{5}$  |      0      |"
   ]
  },
  {
   "cell_type": "markdown",
   "metadata": {},
   "source": [
    "Step 2\n",
    "\n",
    "|       |    A&D   | B | C | E |\n",
    "|-------|------------|---|---|---|\n",
    "| A&D |   0        | $\\sqrt{2}$ | $\\sqrt{10}$  | $2\\sqrt{2}$  |\n",
    "|   B   | $\\sqrt{2}$ | 0 | $\\sqrt{5}$ | $\\sqrt{2}$  |\n",
    "|   C   |   $\\sqrt{10}$| $\\sqrt{5}$ | 0 | $\\sqrt{5}$ |\n",
    "|   E   | $2\\sqrt{2}$| $\\sqrt{2}$  | $\\sqrt{5}$   | 0 |"
   ]
  },
  {
   "cell_type": "markdown",
   "metadata": {},
   "source": [
    "Step 3\n",
    "\n",
    "|   | A&D&B  | C  | E  |\n",
    "|---|---|---|---|\n",
    "| A&D&B  | 0 | $\\sqrt{10}$  |  $2\\sqrt{2}$ |\n",
    "| C  | $\\sqrt{10}$  | 0 | $\\sqrt{5}$  |\n",
    "| E  | $2\\sqrt{2}$  | $\\sqrt{5}$  | 0 |"
   ]
  },
  {
   "cell_type": "markdown",
   "metadata": {},
   "source": [
    "Step 4\n",
    "\n",
    "|   | A&D&B  | C&E  |\n",
    "|---|---|---|\n",
    "| A&D&B  | 0 | $\\sqrt{10}$  |\n",
    "| C&E  | $\\sqrt{10}$  | 0 |"
   ]
  },
  {
   "cell_type": "code",
   "execution_count": null,
   "metadata": {},
   "outputs": [],
   "source": []
  }
 ],
 "metadata": {
  "kernelspec": {
   "display_name": "Python 3",
   "language": "python",
   "name": "python3"
  },
  "language_info": {
   "codemirror_mode": {
    "name": "ipython",
    "version": 3
   },
   "file_extension": ".py",
   "mimetype": "text/x-python",
   "name": "python",
   "nbconvert_exporter": "python",
   "pygments_lexer": "ipython3",
   "version": "3.8.8"
  }
 },
 "nbformat": 4,
 "nbformat_minor": 4
}
