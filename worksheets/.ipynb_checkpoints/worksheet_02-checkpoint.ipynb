{
 "cells": [
  {
   "cell_type": "markdown",
   "metadata": {},
   "source": [
    "# Worksheet 02\n",
    "\n",
    "Name:  Min Han  \n",
    "UID: U15822408\n",
    "\n",
    "### Topics\n",
    "\n",
    "- Effective Programming Cont'd\n",
    "- Intro to Data Science\n",
    "\n",
    "### Effective Programming Cont'd\n",
    "\n",
    "Follow along with the live coding. You can write your code here:"
   ]
  },
  {
   "cell_type": "code",
   "execution_count": null,
   "metadata": {},
   "outputs": [],
   "source": [
    "import os\n",
    "\n",
    "class SquareBoard:\n",
    "\n",
    "    def __init__(self, N):\n",
    "        self.N = N\n",
    "        self.board = [[\"-\" for _ in range(N)] for _ in range(N)]\n",
    "\n",
    "    def print_board(self):\n",
    "        for row in self.board:\n",
    "            for item in row:\n",
    "                print(item, end=\" \")\n",
    "            print()\n",
    "\n",
    "    def set_queen_at(self, i, j):\n",
    "        self.board[i][j] = \"**\"\n",
    "\n",
    "\n",
    "    def is_queen(self, i, j):\n",
    "        return self.board[i][j] == \"**\"\n",
    "\n",
    "\n",
    "    def get_queen_on(self, i):\n",
    "        for j in range(self.N):\n",
    "            if self.is_queen(i, j):\n",
    "                return j\n",
    "        raise ValueError(\"programmer error: no queen on row\")\n",
    "\n",
    "\n",
    "    def unset_queen_on(self, i):\n",
    "        self.board[i] = [\"-\" for _ in range(self.N)]\n",
    "\n",
    "\n",
    "    def num_queens(self):\n",
    "        num_queens = 0\n",
    "        for i in range(self.N):\n",
    "            for j in range(self.N):\n",
    "                if self.is_queen(i, j):\n",
    "                    num_queens += 1\n",
    "        return num_queens\n",
    "\n",
    "    def is_valid_row(self, i, j):\n",
    "        for k in range(self.N):\n",
    "            if self.is_queen(i, k) and k != j:\n",
    "                return False\n",
    "        return True\n",
    "\n",
    "    def is_valid_col(self, i, j):\n",
    "        for k in range(self.N):\n",
    "            if self.is_queen(k, j) and k != i:\n",
    "                return False\n",
    "        return True\n",
    "\n",
    "    def is_valid_diag(self, i, j):\n",
    "        for k in range(1, self.N):\n",
    "            if i + k < self.N:\n",
    "                if j + k < self.N:\n",
    "                    if self.is_queen(i + k, j + k):\n",
    "                        return False\n",
    "                if j - k >= 0:\n",
    "                    if self.is_queen(i + k, j - k):\n",
    "                        return False\n",
    "            if i - k >= 0:\n",
    "                if j + k < self.N:\n",
    "                    if self.is_queen(i - k, j + k):\n",
    "                        return False\n",
    "                if j - k >= 0:\n",
    "                    if self.is_queen(i - k, j - k):\n",
    "                        return False\n",
    "        return True\n",
    "\n",
    "\n",
    "    def is_valid_move(self, i, j):\n",
    "        if j >= self.N:\n",
    "            # this is to catch the case where the Q is\n",
    "            # at the last possible column in a row\n",
    "            # and we are backtracking to the previous row\n",
    "            return False\n",
    "        if self.num_queens() > 8:\n",
    "            return False\n",
    "        if not self.is_valid_row(i, j):\n",
    "            return False\n",
    "        if not self.is_valid_col(i, j):\n",
    "            return False\n",
    "        if not self.is_valid_diag(i, j):\n",
    "            return False\n",
    "        return True\n",
    "\n",
    "\n",
    "    def print_solutions(self):\n",
    "        row = 0\n",
    "        col = 0\n",
    "        nsols = 1\n",
    "\n",
    "        while row >= 0:\n",
    "\n",
    "            if row < self.N:\n",
    "            # we are searching for a solution\n",
    "\n",
    "                if self.is_valid_move(row, col):\n",
    "                    self.set_queen_at(row, col)\n",
    "                    row += 1\n",
    "                    col = 0\n",
    "\n",
    "                else:\n",
    "                    if col < self.N - 1:\n",
    "                        col += 1\n",
    "                    else:\n",
    "                        # backtrack\n",
    "                        if row == 0:\n",
    "                            # no solutions\n",
    "                            return\n",
    "\n",
    "                        row -= 1\n",
    "                        col = self.get_queen_on(row) + 1\n",
    "                        self.unset_queen_on(row)\n",
    "\n",
    "            else:\n",
    "                # we have found a solution\n",
    "                print(\"Solution \" + str(nsols))\n",
    "                self.print_board()\n",
    "                nsols += 1\n",
    "                input(\"Enter for next solution: \")\n",
    "                os.system(\"clear\")\n",
    "\n",
    "                row -= 1\n",
    "                col = self.get_queen_on(row) + 1\n",
    "                # in order to start from the buttom\n",
    "                self.unset_queen_on(row)\n",
    "\n",
    "\n",
    "b = SquareBoard(8)\n",
    "b.print_board()\n",
    "print()\n",
    "b.print_solutions()"
   ]
  },
  {
   "cell_type": "markdown",
   "metadata": {},
   "source": [
    "### Intro to Data Science\n",
    "\n",
    "a) what property must a hypothesis have?"
   ]
  },
  {
   "cell_type": "markdown",
   "metadata": {},
   "source": [
    "It must be testable and it must be falsifiable"
   ]
  },
  {
   "cell_type": "markdown",
   "metadata": {},
   "source": [
    "b) what examples would you have wanted to try?"
   ]
  },
  {
   "cell_type": "markdown",
   "metadata": {},
   "source": [
    "Optimizing shipping and logistics routes in real-time."
   ]
  },
  {
   "cell_type": "markdown",
   "metadata": {},
   "source": [
    "c) Poll 1"
   ]
  },
  {
   "cell_type": "markdown",
   "metadata": {},
   "source": [
    "a < b < c"
   ]
  },
  {
   "cell_type": "markdown",
   "metadata": {},
   "source": [
    "d) Given the hypothesis (x, 2x, 3x), for each of the following, determine whether they are positive or negative examples:\n",
    "\n",
    "- (2, 4, 6)\n",
    "- (6, 8 , 10)\n",
    "- (1, 3, 5)"
   ]
  },
  {
   "cell_type": "markdown",
   "metadata": {},
   "source": [
    "1. positive  \n",
    "2. negative. \n",
    "3. negative. "
   ]
  },
  {
   "cell_type": "markdown",
   "metadata": {},
   "source": [
    "e) Poll 2"
   ]
  },
  {
   "cell_type": "markdown",
   "metadata": {},
   "source": [
    "a < b < c"
   ]
  },
  {
   "cell_type": "markdown",
   "metadata": {},
   "source": [
    "f) Give a real world example for each of the following data types:\n",
    "\n",
    "- record\n",
    "- graph\n",
    "- image\n",
    "- text\n",
    "- time series\n"
   ]
  },
  {
   "cell_type": "markdown",
   "metadata": {},
   "source": [
    "- record: name and phone number  \n",
    "- graph: telephone network  \n",
    "- image: satellite scenes  \n",
    "- text: storing article body in news sites\n",
    "- time series: analysis of financial trends"
   ]
  },
  {
   "cell_type": "markdown",
   "metadata": {},
   "source": [
    "g) Give a real world example of unsupervised learning"
   ]
  },
  {
   "cell_type": "markdown",
   "metadata": {},
   "source": [
    "Recommender systems, which involve grouping together users with similar viewing patterns in order to recommend similar content."
   ]
  },
  {
   "cell_type": "markdown",
   "metadata": {},
   "source": [
    "h) Give a real world example of supervised learning"
   ]
  },
  {
   "cell_type": "markdown",
   "metadata": {},
   "source": [
    " Predicting house prices."
   ]
  },
  {
   "cell_type": "markdown",
   "metadata": {},
   "source": [
    "i) Describe steps of a Data Science Workflow"
   ]
  },
  {
   "cell_type": "markdown",
   "metadata": {},
   "source": [
    "1. Preparation of the data, then alternating between.  \n",
    "2.Analysis.  \n",
    "3.Reflection to interpret the outputs, and finally.  \n",
    "4.Dissemination of results in the form of written reports and/or executable code.  "
   ]
  }
 ],
 "metadata": {
  "kernelspec": {
   "display_name": "Python 3",
   "language": "python",
   "name": "python3"
  },
  "language_info": {
   "codemirror_mode": {
    "name": "ipython",
    "version": 3
   },
   "file_extension": ".py",
   "mimetype": "text/x-python",
   "name": "python",
   "nbconvert_exporter": "python",
   "pygments_lexer": "ipython3",
   "version": "3.8.8"
  }
 },
 "nbformat": 4,
 "nbformat_minor": 4
}
